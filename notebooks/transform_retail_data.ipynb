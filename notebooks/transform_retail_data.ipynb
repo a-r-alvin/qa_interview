{
 "cells": [
  {
   "cell_type": "code",
   "execution_count": 1,
   "id": "9f5615c2-66ec-47e4-83f6-c95107eb3922",
   "metadata": {},
   "outputs": [],
   "source": [
    "import os\n",
    "\n",
    "import pandas as pd\n",
    "import numpy as np\n",
    "import matplotlib.pyplot as plt\n",
    "import seaborn as sns"
   ]
  },
  {
   "cell_type": "markdown",
   "id": "01b25aea-4606-418a-a191-803549d75653",
   "metadata": {},
   "source": [
    "# Load data set.\n",
    "<a id='h1_load_data'></a>"
   ]
  },
  {
   "cell_type": "code",
   "execution_count": 2,
   "id": "7297e09d-5f56-47e9-9a4c-b0f94fa325ce",
   "metadata": {},
   "outputs": [],
   "source": [
    "retail_raw_df = pd.read_csv(os.path.join('..', 'data', 'retail_raw.csv'))\n",
    "#retail_raw_df = pd.read_csv(os.path.join('data', 'online_retail.csv'))\n",
    "# https://www.kaggle.com/mashlyn/online-retail-ii-uci."
   ]
  },
  {
   "cell_type": "code",
   "execution_count": 3,
   "id": "9f58c95e-594c-44fd-bfd7-00028c20bb5c",
   "metadata": {},
   "outputs": [
    {
     "data": {
      "text/html": [
       "<div>\n",
       "<style scoped>\n",
       "    .dataframe tbody tr th:only-of-type {\n",
       "        vertical-align: middle;\n",
       "    }\n",
       "\n",
       "    .dataframe tbody tr th {\n",
       "        vertical-align: top;\n",
       "    }\n",
       "\n",
       "    .dataframe thead th {\n",
       "        text-align: right;\n",
       "    }\n",
       "</style>\n",
       "<table border=\"1\" class=\"dataframe\">\n",
       "  <thead>\n",
       "    <tr style=\"text-align: right;\">\n",
       "      <th></th>\n",
       "      <th>Invoice</th>\n",
       "      <th>StockCode</th>\n",
       "      <th>Description</th>\n",
       "      <th>Quantity</th>\n",
       "      <th>InvoiceDate</th>\n",
       "      <th>Price</th>\n",
       "      <th>Customer ID</th>\n",
       "      <th>Country</th>\n",
       "    </tr>\n",
       "  </thead>\n",
       "  <tbody>\n",
       "    <tr>\n",
       "      <th>468559</th>\n",
       "      <td>533547</td>\n",
       "      <td>21136</td>\n",
       "      <td>PAINTED METAL PEARS ASSORTED</td>\n",
       "      <td>8</td>\n",
       "      <td>2010-11-17 16:48:00</td>\n",
       "      <td>1.69</td>\n",
       "      <td>16409.0</td>\n",
       "      <td>United Kingdom</td>\n",
       "    </tr>\n",
       "    <tr>\n",
       "      <th>770484</th>\n",
       "      <td>558568</td>\n",
       "      <td>84755</td>\n",
       "      <td>COLOUR GLASS T-LIGHT HOLDER HANGING</td>\n",
       "      <td>16</td>\n",
       "      <td>2011-06-30 14:37:00</td>\n",
       "      <td>0.65</td>\n",
       "      <td>16316.0</td>\n",
       "      <td>United Kingdom</td>\n",
       "    </tr>\n",
       "    <tr>\n",
       "      <th>594349</th>\n",
       "      <td>541879</td>\n",
       "      <td>21430</td>\n",
       "      <td>SET/3 RED GINGHAM ROSE STORAGE BOX</td>\n",
       "      <td>1</td>\n",
       "      <td>2011-01-24 10:31:00</td>\n",
       "      <td>7.46</td>\n",
       "      <td>NaN</td>\n",
       "      <td>United Kingdom</td>\n",
       "    </tr>\n",
       "    <tr>\n",
       "      <th>666935</th>\n",
       "      <td>548514</td>\n",
       "      <td>22433</td>\n",
       "      <td>WATERING CAN GREEN DINOSAUR</td>\n",
       "      <td>1</td>\n",
       "      <td>2011-03-31 16:03:00</td>\n",
       "      <td>4.13</td>\n",
       "      <td>NaN</td>\n",
       "      <td>United Kingdom</td>\n",
       "    </tr>\n",
       "    <tr>\n",
       "      <th>247109</th>\n",
       "      <td>513309</td>\n",
       "      <td>21777</td>\n",
       "      <td>RECIPE BOX WITH METAL HEART</td>\n",
       "      <td>2</td>\n",
       "      <td>2010-06-23 14:59:00</td>\n",
       "      <td>7.95</td>\n",
       "      <td>14623.0</td>\n",
       "      <td>United Kingdom</td>\n",
       "    </tr>\n",
       "    <tr>\n",
       "      <th>562344</th>\n",
       "      <td>539453</td>\n",
       "      <td>22665</td>\n",
       "      <td>RECIPE BOX BLUE SKETCHBOOK DESIGN</td>\n",
       "      <td>1</td>\n",
       "      <td>2010-12-17 17:08:00</td>\n",
       "      <td>5.91</td>\n",
       "      <td>NaN</td>\n",
       "      <td>United Kingdom</td>\n",
       "    </tr>\n",
       "    <tr>\n",
       "      <th>531514</th>\n",
       "      <td>536876</td>\n",
       "      <td>84029E</td>\n",
       "      <td>RED WOOLLY HOTTIE WHITE HEART.</td>\n",
       "      <td>2</td>\n",
       "      <td>2010-12-03 11:36:00</td>\n",
       "      <td>7.62</td>\n",
       "      <td>NaN</td>\n",
       "      <td>United Kingdom</td>\n",
       "    </tr>\n",
       "    <tr>\n",
       "      <th>44112</th>\n",
       "      <td>493260</td>\n",
       "      <td>20990</td>\n",
       "      <td>SPRING FLOWER CHOPSTICKS SET/5</td>\n",
       "      <td>2</td>\n",
       "      <td>2009-12-22 14:31:00</td>\n",
       "      <td>4.30</td>\n",
       "      <td>NaN</td>\n",
       "      <td>United Kingdom</td>\n",
       "    </tr>\n",
       "    <tr>\n",
       "      <th>1060811</th>\n",
       "      <td>581215</td>\n",
       "      <td>22809</td>\n",
       "      <td>SET OF 6 T-LIGHTS SANTA</td>\n",
       "      <td>36</td>\n",
       "      <td>2011-12-08 09:05:00</td>\n",
       "      <td>2.55</td>\n",
       "      <td>13408.0</td>\n",
       "      <td>United Kingdom</td>\n",
       "    </tr>\n",
       "    <tr>\n",
       "      <th>611291</th>\n",
       "      <td>543530</td>\n",
       "      <td>21167</td>\n",
       "      <td>WHITE SAGE INCENSE</td>\n",
       "      <td>20</td>\n",
       "      <td>2011-02-09 12:46:00</td>\n",
       "      <td>0.42</td>\n",
       "      <td>NaN</td>\n",
       "      <td>United Kingdom</td>\n",
       "    </tr>\n",
       "  </tbody>\n",
       "</table>\n",
       "</div>"
      ],
      "text/plain": [
       "        Invoice StockCode                          Description  Quantity  \\\n",
       "468559   533547     21136         PAINTED METAL PEARS ASSORTED         8   \n",
       "770484   558568     84755  COLOUR GLASS T-LIGHT HOLDER HANGING        16   \n",
       "594349   541879     21430   SET/3 RED GINGHAM ROSE STORAGE BOX         1   \n",
       "666935   548514     22433          WATERING CAN GREEN DINOSAUR         1   \n",
       "247109   513309     21777          RECIPE BOX WITH METAL HEART         2   \n",
       "562344   539453     22665    RECIPE BOX BLUE SKETCHBOOK DESIGN         1   \n",
       "531514   536876    84029E       RED WOOLLY HOTTIE WHITE HEART.         2   \n",
       "44112    493260     20990       SPRING FLOWER CHOPSTICKS SET/5         2   \n",
       "1060811  581215     22809              SET OF 6 T-LIGHTS SANTA        36   \n",
       "611291   543530     21167                   WHITE SAGE INCENSE        20   \n",
       "\n",
       "                 InvoiceDate  Price  Customer ID         Country  \n",
       "468559   2010-11-17 16:48:00   1.69      16409.0  United Kingdom  \n",
       "770484   2011-06-30 14:37:00   0.65      16316.0  United Kingdom  \n",
       "594349   2011-01-24 10:31:00   7.46          NaN  United Kingdom  \n",
       "666935   2011-03-31 16:03:00   4.13          NaN  United Kingdom  \n",
       "247109   2010-06-23 14:59:00   7.95      14623.0  United Kingdom  \n",
       "562344   2010-12-17 17:08:00   5.91          NaN  United Kingdom  \n",
       "531514   2010-12-03 11:36:00   7.62          NaN  United Kingdom  \n",
       "44112    2009-12-22 14:31:00   4.30          NaN  United Kingdom  \n",
       "1060811  2011-12-08 09:05:00   2.55      13408.0  United Kingdom  \n",
       "611291   2011-02-09 12:46:00   0.42          NaN  United Kingdom  "
      ]
     },
     "execution_count": 3,
     "metadata": {},
     "output_type": "execute_result"
    }
   ],
   "source": [
    "retail_raw_df.sample(10)"
   ]
  },
  {
   "cell_type": "code",
   "execution_count": 4,
   "id": "bf35684d-05f0-4da6-a39a-a785d9168fbb",
   "metadata": {},
   "outputs": [],
   "source": [
    "retail_raw_df.columns = ['invoice_id', 'stock_code', 'description', 'quantity', 'invoice_date', 'price', 'customer_id', 'country']"
   ]
  },
  {
   "cell_type": "code",
   "execution_count": 5,
   "id": "bc7e8419-076d-4940-a70f-28508b87b12d",
   "metadata": {},
   "outputs": [],
   "source": [
    "retail_raw_df['invoice_date_dt'] = pd.to_datetime(retail_raw_df['invoice_date'])"
   ]
  },
  {
   "cell_type": "code",
   "execution_count": 6,
   "id": "869baadd-6dd8-4128-ae25-ccd2d1dd49a4",
   "metadata": {},
   "outputs": [],
   "source": [
    "retail_raw_df['order_value'] = retail_raw_df['price'] * retail_raw_df['quantity']"
   ]
  },
  {
   "cell_type": "code",
   "execution_count": 7,
   "id": "f751a43f-fca5-47c1-881d-b8f4ba1555fa",
   "metadata": {},
   "outputs": [],
   "source": [
    "# retail_agg_df = retail_raw_df.groupby([\n",
    "#     'Invoice',\n",
    "#     pd.Grouper(key='invoice_date_dt', freq='W-MON')]\n",
    "# )['order_value'] \\\n",
    "#     .sum() \\\n",
    "#     .reset_index() \\\n",
    "#     .sort_values('invoice_date_dt')"
   ]
  },
  {
   "cell_type": "code",
   "execution_count": 32,
   "id": "a1812a50-a8f8-4239-ace4-38143fa7cb5f",
   "metadata": {},
   "outputs": [
    {
     "data": {
      "text/plain": [
       "0.005810538228975679"
      ]
     },
     "execution_count": 32,
     "metadata": {},
     "output_type": "execute_result"
    }
   ],
   "source": [
    "#retail_raw_df.loc[retail_raw_df['order_value'] == 0].sample(30)\n",
    "len(retail_raw_df.loc[retail_raw_df['order_value'] == 0]) / len(retail_raw_df)"
   ]
  },
  {
   "cell_type": "code",
   "execution_count": 8,
   "id": "287099cc-fb52-4414-9319-9dae8f222232",
   "metadata": {},
   "outputs": [],
   "source": [
    "retail_agg_df = retail_raw_df.groupby(['invoice_id', 'invoice_date_dt', 'country'])['order_value'] \\\n",
    "    .sum() \\\n",
    "    .reset_index() \\\n",
    "    .sort_values('invoice_id')"
   ]
  },
  {
   "cell_type": "code",
   "execution_count": 9,
   "id": "1cfc563e-3fac-4a69-a6a1-42d755a53933",
   "metadata": {},
   "outputs": [
    {
     "data": {
      "text/plain": [
       "(53711, 4)"
      ]
     },
     "execution_count": 9,
     "metadata": {},
     "output_type": "execute_result"
    }
   ],
   "source": [
    "retail_agg_df.shape"
   ]
  },
  {
   "cell_type": "code",
   "execution_count": 10,
   "id": "b84e4ac2-4990-43fc-8fd5-ea234600b612",
   "metadata": {},
   "outputs": [
    {
     "data": {
      "text/html": [
       "<div>\n",
       "<style scoped>\n",
       "    .dataframe tbody tr th:only-of-type {\n",
       "        vertical-align: middle;\n",
       "    }\n",
       "\n",
       "    .dataframe tbody tr th {\n",
       "        vertical-align: top;\n",
       "    }\n",
       "\n",
       "    .dataframe thead th {\n",
       "        text-align: right;\n",
       "    }\n",
       "</style>\n",
       "<table border=\"1\" class=\"dataframe\">\n",
       "  <thead>\n",
       "    <tr style=\"text-align: right;\">\n",
       "      <th></th>\n",
       "      <th>invoice_id</th>\n",
       "      <th>invoice_date_dt</th>\n",
       "      <th>country</th>\n",
       "      <th>order_value</th>\n",
       "    </tr>\n",
       "  </thead>\n",
       "  <tbody>\n",
       "    <tr>\n",
       "      <th>50190</th>\n",
       "      <td>C539866</td>\n",
       "      <td>2010-12-23 10:20:00</td>\n",
       "      <td>Germany</td>\n",
       "      <td>-56.95</td>\n",
       "    </tr>\n",
       "    <tr>\n",
       "      <th>20840</th>\n",
       "      <td>531170</td>\n",
       "      <td>2010-11-05 14:36:00</td>\n",
       "      <td>United Kingdom</td>\n",
       "      <td>0.00</td>\n",
       "    </tr>\n",
       "    <tr>\n",
       "      <th>5836</th>\n",
       "      <td>501104</td>\n",
       "      <td>2010-03-12 13:08:00</td>\n",
       "      <td>United Kingdom</td>\n",
       "      <td>146.40</td>\n",
       "    </tr>\n",
       "    <tr>\n",
       "      <th>44761</th>\n",
       "      <td>580317</td>\n",
       "      <td>2011-12-02 15:29:00</td>\n",
       "      <td>United Kingdom</td>\n",
       "      <td>584.52</td>\n",
       "    </tr>\n",
       "    <tr>\n",
       "      <th>40922</th>\n",
       "      <td>572565</td>\n",
       "      <td>2011-10-25 10:17:00</td>\n",
       "      <td>United Kingdom</td>\n",
       "      <td>573.45</td>\n",
       "    </tr>\n",
       "    <tr>\n",
       "      <th>22293</th>\n",
       "      <td>534172</td>\n",
       "      <td>2010-11-21 13:30:00</td>\n",
       "      <td>United Kingdom</td>\n",
       "      <td>1130.48</td>\n",
       "    </tr>\n",
       "    <tr>\n",
       "      <th>44110</th>\n",
       "      <td>578856</td>\n",
       "      <td>2011-11-27 11:18:00</td>\n",
       "      <td>United Kingdom</td>\n",
       "      <td>707.81</td>\n",
       "    </tr>\n",
       "    <tr>\n",
       "      <th>19886</th>\n",
       "      <td>529213</td>\n",
       "      <td>2010-10-27 10:32:00</td>\n",
       "      <td>United Kingdom</td>\n",
       "      <td>170.40</td>\n",
       "    </tr>\n",
       "    <tr>\n",
       "      <th>26845</th>\n",
       "      <td>544086</td>\n",
       "      <td>2011-02-15 16:49:00</td>\n",
       "      <td>United Kingdom</td>\n",
       "      <td>0.00</td>\n",
       "    </tr>\n",
       "    <tr>\n",
       "      <th>24347</th>\n",
       "      <td>538366</td>\n",
       "      <td>2010-12-12 10:47:00</td>\n",
       "      <td>United Kingdom</td>\n",
       "      <td>275.30</td>\n",
       "    </tr>\n",
       "  </tbody>\n",
       "</table>\n",
       "</div>"
      ],
      "text/plain": [
       "      invoice_id     invoice_date_dt         country  order_value\n",
       "50190    C539866 2010-12-23 10:20:00         Germany       -56.95\n",
       "20840     531170 2010-11-05 14:36:00  United Kingdom         0.00\n",
       "5836      501104 2010-03-12 13:08:00  United Kingdom       146.40\n",
       "44761     580317 2011-12-02 15:29:00  United Kingdom       584.52\n",
       "40922     572565 2011-10-25 10:17:00  United Kingdom       573.45\n",
       "22293     534172 2010-11-21 13:30:00  United Kingdom      1130.48\n",
       "44110     578856 2011-11-27 11:18:00  United Kingdom       707.81\n",
       "19886     529213 2010-10-27 10:32:00  United Kingdom       170.40\n",
       "26845     544086 2011-02-15 16:49:00  United Kingdom         0.00\n",
       "24347     538366 2010-12-12 10:47:00  United Kingdom       275.30"
      ]
     },
     "execution_count": 10,
     "metadata": {},
     "output_type": "execute_result"
    }
   ],
   "source": [
    "retail_agg_df.sample(10)"
   ]
  },
  {
   "cell_type": "code",
   "execution_count": 11,
   "id": "8eeb4fdb-e87e-4f5c-9324-ad57c7dcbe08",
   "metadata": {},
   "outputs": [
    {
     "data": {
      "text/plain": [
       "1259653500000000000"
      ]
     },
     "execution_count": 11,
     "metadata": {},
     "output_type": "execute_result"
    }
   ],
   "source": [
    "dt_min = min(pd.to_numeric(retail_agg_df['invoice_date_dt']))\n",
    "dt_min"
   ]
  },
  {
   "cell_type": "code",
   "execution_count": 12,
   "id": "f625f54b-2172-430c-90e9-6e48dbfec4fb",
   "metadata": {},
   "outputs": [],
   "source": [
    "retail_agg_df['period_id'] = ['Q{}_{}'.format(str((dt.month - 1) // 3 + 1), dt.year) for dt in retail_agg_df['invoice_date_dt']]"
   ]
  },
  {
   "cell_type": "code",
   "execution_count": 13,
   "id": "6193895c-c2c1-4c73-b048-401b2bb59b1d",
   "metadata": {},
   "outputs": [],
   "source": [
    "retail_agg_df['period_id'] = pd.Categorical(values=retail_agg_df['period_id'], categories=['Q4_2009', 'Q1_2010', 'Q2_2010', 'Q3_2010', 'Q4_2010', 'Q1_2011', 'Q2_2011', 'Q3_2011', 'Q4_2011'], ordered=True)"
   ]
  },
  {
   "cell_type": "code",
   "execution_count": 14,
   "id": "86b7b8ea-ec35-410c-8837-189c92e7c8c5",
   "metadata": {},
   "outputs": [
    {
     "data": {
      "text/plain": [
       "invoice_id                 object\n",
       "invoice_date_dt    datetime64[ns]\n",
       "country                    object\n",
       "order_value               float64\n",
       "period_id                category\n",
       "dtype: object"
      ]
     },
     "execution_count": 14,
     "metadata": {},
     "output_type": "execute_result"
    }
   ],
   "source": [
    "retail_agg_df.dtypes"
   ]
  },
  {
   "cell_type": "code",
   "execution_count": null,
   "id": "825f3425-52d8-4da4-85f1-4c94ad3995b4",
   "metadata": {},
   "outputs": [],
   "source": [
    "#retail_agg_df.sample(20)"
   ]
  },
  {
   "cell_type": "code",
   "execution_count": null,
   "id": "21b7ac23-41c6-462a-8f6b-988e510bbdfa",
   "metadata": {},
   "outputs": [],
   "source": [
    "#retail_agg_df['week_id'] = pd.to_numeric(np.round((pd.to_numeric(retail_agg_df['invoice_date_dt']) - dt_min) / 1E9 / 60 / 60 / 24 / 7) + 1, downcast='integer')"
   ]
  },
  {
   "cell_type": "code",
   "execution_count": null,
   "id": "ea109c49-ac86-4c0e-ae6a-348efd140f87",
   "metadata": {},
   "outputs": [],
   "source": [
    "#retail_agg_df['week_id'].dtype"
   ]
  },
  {
   "cell_type": "code",
   "execution_count": 15,
   "id": "f467a916-67f1-4ef0-b5a7-f251a5238aca",
   "metadata": {},
   "outputs": [],
   "source": [
    "pd.options.display.max_rows = 100"
   ]
  },
  {
   "cell_type": "code",
   "execution_count": 16,
   "id": "a8be59ae-9c3b-44d0-b7ef-c0fcccd33c50",
   "metadata": {},
   "outputs": [
    {
     "data": {
      "text/html": [
       "<div>\n",
       "<style scoped>\n",
       "    .dataframe tbody tr th:only-of-type {\n",
       "        vertical-align: middle;\n",
       "    }\n",
       "\n",
       "    .dataframe tbody tr th {\n",
       "        vertical-align: top;\n",
       "    }\n",
       "\n",
       "    .dataframe thead th {\n",
       "        text-align: right;\n",
       "    }\n",
       "</style>\n",
       "<table border=\"1\" class=\"dataframe\">\n",
       "  <thead>\n",
       "    <tr style=\"text-align: right;\">\n",
       "      <th></th>\n",
       "      <th></th>\n",
       "      <th>sales</th>\n",
       "      <th>n_invoices</th>\n",
       "    </tr>\n",
       "    <tr>\n",
       "      <th>country</th>\n",
       "      <th>period_id</th>\n",
       "      <th></th>\n",
       "      <th></th>\n",
       "    </tr>\n",
       "  </thead>\n",
       "  <tbody>\n",
       "    <tr>\n",
       "      <th rowspan=\"5\" valign=\"top\">Australia</th>\n",
       "      <th>Q4_2009</th>\n",
       "      <td>50.25</td>\n",
       "      <td>5</td>\n",
       "    </tr>\n",
       "    <tr>\n",
       "      <th>Q1_2010</th>\n",
       "      <td>1459.05</td>\n",
       "      <td>5</td>\n",
       "    </tr>\n",
       "    <tr>\n",
       "      <th>Q2_2010</th>\n",
       "      <td>5132.93</td>\n",
       "      <td>14</td>\n",
       "    </tr>\n",
       "    <tr>\n",
       "      <th>Q3_2010</th>\n",
       "      <td>1595.45</td>\n",
       "      <td>8</td>\n",
       "    </tr>\n",
       "    <tr>\n",
       "      <th>Q4_2010</th>\n",
       "      <td>22819.22</td>\n",
       "      <td>20</td>\n",
       "    </tr>\n",
       "    <tr>\n",
       "      <th>...</th>\n",
       "      <th>...</th>\n",
       "      <td>...</td>\n",
       "      <td>...</td>\n",
       "    </tr>\n",
       "    <tr>\n",
       "      <th rowspan=\"5\" valign=\"top\">West Indies</th>\n",
       "      <th>Q4_2010</th>\n",
       "      <td>0.00</td>\n",
       "      <td>0</td>\n",
       "    </tr>\n",
       "    <tr>\n",
       "      <th>Q1_2011</th>\n",
       "      <td>0.00</td>\n",
       "      <td>0</td>\n",
       "    </tr>\n",
       "    <tr>\n",
       "      <th>Q2_2011</th>\n",
       "      <td>0.00</td>\n",
       "      <td>0</td>\n",
       "    </tr>\n",
       "    <tr>\n",
       "      <th>Q3_2011</th>\n",
       "      <td>0.00</td>\n",
       "      <td>0</td>\n",
       "    </tr>\n",
       "    <tr>\n",
       "      <th>Q4_2011</th>\n",
       "      <td>0.00</td>\n",
       "      <td>0</td>\n",
       "    </tr>\n",
       "  </tbody>\n",
       "</table>\n",
       "<p>387 rows × 2 columns</p>\n",
       "</div>"
      ],
      "text/plain": [
       "                          sales  n_invoices\n",
       "country     period_id                      \n",
       "Australia   Q4_2009       50.25           5\n",
       "            Q1_2010     1459.05           5\n",
       "            Q2_2010     5132.93          14\n",
       "            Q3_2010     1595.45           8\n",
       "            Q4_2010    22819.22          20\n",
       "...                         ...         ...\n",
       "West Indies Q4_2010        0.00           0\n",
       "            Q1_2011        0.00           0\n",
       "            Q2_2011        0.00           0\n",
       "            Q3_2011        0.00           0\n",
       "            Q4_2011        0.00           0\n",
       "\n",
       "[387 rows x 2 columns]"
      ]
     },
     "execution_count": 16,
     "metadata": {},
     "output_type": "execute_result"
    }
   ],
   "source": [
    "#retail_agg_df.loc[retail_agg_df['Country'] == 'Sweden'].groupby([\n",
    "retail_agg_df.groupby([\n",
    "    'country',\n",
    "    #'week_id'\n",
    "    'period_id'\n",
    "]).agg(\n",
    "    sales=('order_value', 'sum'),\n",
    "    n_invoices=('invoice_id', 'count')\n",
    ")"
   ]
  },
  {
   "cell_type": "code",
   "execution_count": 17,
   "id": "e884fbd3-6288-4bb9-8dd1-d1556f9421ac",
   "metadata": {},
   "outputs": [
    {
     "data": {
      "text/plain": [
       "invoice_id                 object\n",
       "invoice_date_dt    datetime64[ns]\n",
       "country                    object\n",
       "order_value               float64\n",
       "period_id                category\n",
       "dtype: object"
      ]
     },
     "execution_count": 17,
     "metadata": {},
     "output_type": "execute_result"
    }
   ],
   "source": [
    "retail_agg_df.dtypes"
   ]
  },
  {
   "cell_type": "code",
   "execution_count": 18,
   "id": "afefdeed-1ba5-42c7-af24-d23b14cf1467",
   "metadata": {},
   "outputs": [],
   "source": [
    "#?pd.DataFrame.agg"
   ]
  },
  {
   "cell_type": "code",
   "execution_count": 19,
   "id": "0d92c50c-9d0e-4ad9-bf84-f41e4d369510",
   "metadata": {},
   "outputs": [
    {
     "data": {
      "text/plain": [
       "<AxesSubplot:xlabel='country'>"
      ]
     },
     "execution_count": 19,
     "metadata": {},
     "output_type": "execute_result"
    },
    {
     "data": {
      "image/png": "[encoded data removed]",
      "text/plain": [
       "<Figure size 1080x432 with 1 Axes>"
      ]
     },
     "metadata": {
      "needs_background": "light"
     },
     "output_type": "display_data"
    }
   ],
   "source": [
    "#retail_agg_df.loc[retail_agg_df['Country'] == 'Sweden'].groupby([\n",
    "retail_agg_df.groupby([\n",
    "    'country'\n",
    "]).agg(\n",
    "    sales=('order_value', 'sum'),\n",
    "    n_nvoices=('invoice_id', 'count')\n",
    ").sort_values(\n",
    "    by='sales',\n",
    "    ascending=False\n",
    ").plot.bar(\n",
    "    log=True,\n",
    "    figsize=(15, 6)\n",
    ")"
   ]
  },
  {
   "cell_type": "code",
   "execution_count": 20,
   "id": "7b2af82b-b811-43a8-909f-e24f96e96f7d",
   "metadata": {},
   "outputs": [
    {
     "data": {
      "text/html": [
       "<div>\n",
       "<style scoped>\n",
       "    .dataframe tbody tr th:only-of-type {\n",
       "        vertical-align: middle;\n",
       "    }\n",
       "\n",
       "    .dataframe tbody tr th {\n",
       "        vertical-align: top;\n",
       "    }\n",
       "\n",
       "    .dataframe thead th {\n",
       "        text-align: right;\n",
       "    }\n",
       "</style>\n",
       "<table border=\"1\" class=\"dataframe\">\n",
       "  <thead>\n",
       "    <tr style=\"text-align: right;\">\n",
       "      <th></th>\n",
       "      <th>invoice_id</th>\n",
       "      <th>invoice_date_dt</th>\n",
       "      <th>country</th>\n",
       "      <th>order_value</th>\n",
       "      <th>period_id</th>\n",
       "    </tr>\n",
       "  </thead>\n",
       "  <tbody>\n",
       "    <tr>\n",
       "      <th>0</th>\n",
       "      <td>489434</td>\n",
       "      <td>2009-12-01 07:45:00</td>\n",
       "      <td>United Kingdom</td>\n",
       "      <td>505.30</td>\n",
       "      <td>Q4_2009</td>\n",
       "    </tr>\n",
       "    <tr>\n",
       "      <th>1</th>\n",
       "      <td>489435</td>\n",
       "      <td>2009-12-01 07:46:00</td>\n",
       "      <td>United Kingdom</td>\n",
       "      <td>145.80</td>\n",
       "      <td>Q4_2009</td>\n",
       "    </tr>\n",
       "    <tr>\n",
       "      <th>2</th>\n",
       "      <td>489436</td>\n",
       "      <td>2009-12-01 09:06:00</td>\n",
       "      <td>United Kingdom</td>\n",
       "      <td>630.33</td>\n",
       "      <td>Q4_2009</td>\n",
       "    </tr>\n",
       "    <tr>\n",
       "      <th>3</th>\n",
       "      <td>489437</td>\n",
       "      <td>2009-12-01 09:08:00</td>\n",
       "      <td>United Kingdom</td>\n",
       "      <td>310.75</td>\n",
       "      <td>Q4_2009</td>\n",
       "    </tr>\n",
       "    <tr>\n",
       "      <th>4</th>\n",
       "      <td>489438</td>\n",
       "      <td>2009-12-01 09:24:00</td>\n",
       "      <td>United Kingdom</td>\n",
       "      <td>2286.24</td>\n",
       "      <td>Q4_2009</td>\n",
       "    </tr>\n",
       "    <tr>\n",
       "      <th>...</th>\n",
       "      <td>...</td>\n",
       "      <td>...</td>\n",
       "      <td>...</td>\n",
       "      <td>...</td>\n",
       "      <td>...</td>\n",
       "    </tr>\n",
       "    <tr>\n",
       "      <th>53706</th>\n",
       "      <td>C581484</td>\n",
       "      <td>2011-12-09 09:27:00</td>\n",
       "      <td>United Kingdom</td>\n",
       "      <td>-168469.60</td>\n",
       "      <td>Q4_2011</td>\n",
       "    </tr>\n",
       "    <tr>\n",
       "      <th>53707</th>\n",
       "      <td>C581490</td>\n",
       "      <td>2011-12-09 09:57:00</td>\n",
       "      <td>United Kingdom</td>\n",
       "      <td>-32.53</td>\n",
       "      <td>Q4_2011</td>\n",
       "    </tr>\n",
       "    <tr>\n",
       "      <th>53708</th>\n",
       "      <td>C581499</td>\n",
       "      <td>2011-12-09 10:28:00</td>\n",
       "      <td>United Kingdom</td>\n",
       "      <td>-224.69</td>\n",
       "      <td>Q4_2011</td>\n",
       "    </tr>\n",
       "    <tr>\n",
       "      <th>53709</th>\n",
       "      <td>C581568</td>\n",
       "      <td>2011-12-09 11:57:00</td>\n",
       "      <td>United Kingdom</td>\n",
       "      <td>-54.75</td>\n",
       "      <td>Q4_2011</td>\n",
       "    </tr>\n",
       "    <tr>\n",
       "      <th>53710</th>\n",
       "      <td>C581569</td>\n",
       "      <td>2011-12-09 11:58:00</td>\n",
       "      <td>United Kingdom</td>\n",
       "      <td>-7.50</td>\n",
       "      <td>Q4_2011</td>\n",
       "    </tr>\n",
       "  </tbody>\n",
       "</table>\n",
       "<p>53711 rows × 5 columns</p>\n",
       "</div>"
      ],
      "text/plain": [
       "      invoice_id     invoice_date_dt         country  order_value period_id\n",
       "0         489434 2009-12-01 07:45:00  United Kingdom       505.30   Q4_2009\n",
       "1         489435 2009-12-01 07:46:00  United Kingdom       145.80   Q4_2009\n",
       "2         489436 2009-12-01 09:06:00  United Kingdom       630.33   Q4_2009\n",
       "3         489437 2009-12-01 09:08:00  United Kingdom       310.75   Q4_2009\n",
       "4         489438 2009-12-01 09:24:00  United Kingdom      2286.24   Q4_2009\n",
       "...          ...                 ...             ...          ...       ...\n",
       "53706    C581484 2011-12-09 09:27:00  United Kingdom   -168469.60   Q4_2011\n",
       "53707    C581490 2011-12-09 09:57:00  United Kingdom       -32.53   Q4_2011\n",
       "53708    C581499 2011-12-09 10:28:00  United Kingdom      -224.69   Q4_2011\n",
       "53709    C581568 2011-12-09 11:57:00  United Kingdom       -54.75   Q4_2011\n",
       "53710    C581569 2011-12-09 11:58:00  United Kingdom        -7.50   Q4_2011\n",
       "\n",
       "[53711 rows x 5 columns]"
      ]
     },
     "execution_count": 20,
     "metadata": {},
     "output_type": "execute_result"
    }
   ],
   "source": [
    "retail_agg_df"
   ]
  },
  {
   "cell_type": "code",
   "execution_count": 21,
   "id": "1993c4c8-11ed-4ee6-a606-604d605739d8",
   "metadata": {},
   "outputs": [],
   "source": [
    "#retail_agg_df.set_index('invoice_id')"
   ]
  },
  {
   "cell_type": "code",
   "execution_count": 22,
   "id": "9b2f3861-4d54-4078-9ed8-a30225d7bc60",
   "metadata": {},
   "outputs": [],
   "source": [
    "# retail_agg_df = retail_agg_df.sort_values(by=['invoice_date_dt', 'country', 'invoice_id']).set_index('invoice_id')[['week_id', 'country', 'order_value']]\n",
    "# retail_agg_df"
   ]
  },
  {
   "cell_type": "code",
   "execution_count": 23,
   "id": "6dd2a13c-2102-46ea-a304-58d65a607559",
   "metadata": {},
   "outputs": [
    {
     "data": {
      "text/html": [
       "<div>\n",
       "<style scoped>\n",
       "    .dataframe tbody tr th:only-of-type {\n",
       "        vertical-align: middle;\n",
       "    }\n",
       "\n",
       "    .dataframe tbody tr th {\n",
       "        vertical-align: top;\n",
       "    }\n",
       "\n",
       "    .dataframe thead th {\n",
       "        text-align: right;\n",
       "    }\n",
       "</style>\n",
       "<table border=\"1\" class=\"dataframe\">\n",
       "  <thead>\n",
       "    <tr style=\"text-align: right;\">\n",
       "      <th></th>\n",
       "      <th>invoice_date_dt</th>\n",
       "      <th>period_id</th>\n",
       "      <th>country</th>\n",
       "      <th>order_value</th>\n",
       "    </tr>\n",
       "    <tr>\n",
       "      <th>invoice_id</th>\n",
       "      <th></th>\n",
       "      <th></th>\n",
       "      <th></th>\n",
       "      <th></th>\n",
       "    </tr>\n",
       "  </thead>\n",
       "  <tbody>\n",
       "    <tr>\n",
       "      <th>489434</th>\n",
       "      <td>2009-12-01 07:45:00</td>\n",
       "      <td>Q4_2009</td>\n",
       "      <td>United Kingdom</td>\n",
       "      <td>505.30</td>\n",
       "    </tr>\n",
       "    <tr>\n",
       "      <th>489435</th>\n",
       "      <td>2009-12-01 07:46:00</td>\n",
       "      <td>Q4_2009</td>\n",
       "      <td>United Kingdom</td>\n",
       "      <td>145.80</td>\n",
       "    </tr>\n",
       "    <tr>\n",
       "      <th>489436</th>\n",
       "      <td>2009-12-01 09:06:00</td>\n",
       "      <td>Q4_2009</td>\n",
       "      <td>United Kingdom</td>\n",
       "      <td>630.33</td>\n",
       "    </tr>\n",
       "    <tr>\n",
       "      <th>489437</th>\n",
       "      <td>2009-12-01 09:08:00</td>\n",
       "      <td>Q4_2009</td>\n",
       "      <td>United Kingdom</td>\n",
       "      <td>310.75</td>\n",
       "    </tr>\n",
       "    <tr>\n",
       "      <th>489438</th>\n",
       "      <td>2009-12-01 09:24:00</td>\n",
       "      <td>Q4_2009</td>\n",
       "      <td>United Kingdom</td>\n",
       "      <td>2286.24</td>\n",
       "    </tr>\n",
       "    <tr>\n",
       "      <th>...</th>\n",
       "      <td>...</td>\n",
       "      <td>...</td>\n",
       "      <td>...</td>\n",
       "      <td>...</td>\n",
       "    </tr>\n",
       "    <tr>\n",
       "      <th>581583</th>\n",
       "      <td>2011-12-09 12:23:00</td>\n",
       "      <td>Q4_2011</td>\n",
       "      <td>United Kingdom</td>\n",
       "      <td>124.60</td>\n",
       "    </tr>\n",
       "    <tr>\n",
       "      <th>581584</th>\n",
       "      <td>2011-12-09 12:25:00</td>\n",
       "      <td>Q4_2011</td>\n",
       "      <td>United Kingdom</td>\n",
       "      <td>140.64</td>\n",
       "    </tr>\n",
       "    <tr>\n",
       "      <th>581585</th>\n",
       "      <td>2011-12-09 12:31:00</td>\n",
       "      <td>Q4_2011</td>\n",
       "      <td>United Kingdom</td>\n",
       "      <td>329.05</td>\n",
       "    </tr>\n",
       "    <tr>\n",
       "      <th>581586</th>\n",
       "      <td>2011-12-09 12:49:00</td>\n",
       "      <td>Q4_2011</td>\n",
       "      <td>United Kingdom</td>\n",
       "      <td>339.20</td>\n",
       "    </tr>\n",
       "    <tr>\n",
       "      <th>581587</th>\n",
       "      <td>2011-12-09 12:50:00</td>\n",
       "      <td>Q4_2011</td>\n",
       "      <td>France</td>\n",
       "      <td>267.45</td>\n",
       "    </tr>\n",
       "  </tbody>\n",
       "</table>\n",
       "<p>53711 rows × 4 columns</p>\n",
       "</div>"
      ],
      "text/plain": [
       "               invoice_date_dt period_id         country  order_value\n",
       "invoice_id                                                           \n",
       "489434     2009-12-01 07:45:00   Q4_2009  United Kingdom       505.30\n",
       "489435     2009-12-01 07:46:00   Q4_2009  United Kingdom       145.80\n",
       "489436     2009-12-01 09:06:00   Q4_2009  United Kingdom       630.33\n",
       "489437     2009-12-01 09:08:00   Q4_2009  United Kingdom       310.75\n",
       "489438     2009-12-01 09:24:00   Q4_2009  United Kingdom      2286.24\n",
       "...                        ...       ...             ...          ...\n",
       "581583     2011-12-09 12:23:00   Q4_2011  United Kingdom       124.60\n",
       "581584     2011-12-09 12:25:00   Q4_2011  United Kingdom       140.64\n",
       "581585     2011-12-09 12:31:00   Q4_2011  United Kingdom       329.05\n",
       "581586     2011-12-09 12:49:00   Q4_2011  United Kingdom       339.20\n",
       "581587     2011-12-09 12:50:00   Q4_2011          France       267.45\n",
       "\n",
       "[53711 rows x 4 columns]"
      ]
     },
     "execution_count": 23,
     "metadata": {},
     "output_type": "execute_result"
    }
   ],
   "source": [
    "retail_agg_df = retail_agg_df.sort_values(by=['invoice_date_dt', 'country', 'invoice_id']).set_index('invoice_id')[['invoice_date_dt', 'period_id', 'country', 'order_value']]\n",
    "retail_agg_df"
   ]
  },
  {
   "cell_type": "code",
   "execution_count": 24,
   "id": "27f9ba4c-5748-44bc-a646-8b23913b7eea",
   "metadata": {},
   "outputs": [],
   "source": [
    "retail_agg_df.to_csv(os.path.join('..', 'data', 'retail.csv'))"
   ]
  },
  {
   "cell_type": "code",
   "execution_count": 25,
   "id": "90758f0a-f9c3-4cf5-afff-7741aea0f37f",
   "metadata": {},
   "outputs": [],
   "source": [
    "retail_agg_df.to_pickle(os.path.join('..', 'data', 'retail.pkl'))"
   ]
  },
  {
   "cell_type": "code",
   "execution_count": null,
   "id": "93d03fa2-8e5b-42b0-bb4f-5975b21aaf64",
   "metadata": {},
   "outputs": [],
   "source": []
  },
  {
   "cell_type": "code",
   "execution_count": null,
   "id": "580c4d56-1dbc-4423-bf63-298c3e66945e",
   "metadata": {},
   "outputs": [],
   "source": []
  },
  {
   "cell_type": "code",
   "execution_count": null,
   "id": "1cf4d41e-8a07-4f34-8c6c-e4cc1fb15f2a",
   "metadata": {},
   "outputs": [],
   "source": [
    "retail_agg_df.loc[\n",
    "    (retail_agg_df['country'] == 'United Kingdom') & (retail_agg_df['week_id'] == 2)\n",
    "]['order_value'].sum()"
   ]
  },
  {
   "cell_type": "code",
   "execution_count": null,
   "id": "a5e6efbc-fd83-438e-847d-0944c6302a3e",
   "metadata": {},
   "outputs": [],
   "source": [
    "retail_agg_df.loc[\n",
    "    (retail_agg_df['country'] == 'United Kingdom') & (retail_agg_df['week_id'] == 1)\n",
    "]['order_value'].sum()"
   ]
  },
  {
   "cell_type": "code",
   "execution_count": null,
   "id": "5ee7f3e4-7cd8-44c0-b618-6d41bcd14957",
   "metadata": {},
   "outputs": [],
   "source": []
  },
  {
   "cell_type": "code",
   "execution_count": null,
   "id": "3a80bf93-296a-4c4b-8440-83a618de8e2a",
   "metadata": {},
   "outputs": [],
   "source": []
  },
  {
   "cell_type": "code",
   "execution_count": null,
   "id": "b1969674-47e3-4a1a-98de-6aa2c0fc9189",
   "metadata": {},
   "outputs": [],
   "source": []
  },
  {
   "cell_type": "code",
   "execution_count": null,
   "id": "60a24c38-70c4-4d65-91fd-710e4724dbd3",
   "metadata": {},
   "outputs": [],
   "source": []
  },
  {
   "cell_type": "code",
   "execution_count": null,
   "id": "1fad5374-ea6f-4280-9a76-b768f8e2e31f",
   "metadata": {},
   "outputs": [],
   "source": []
  },
  {
   "cell_type": "code",
   "execution_count": null,
   "id": "6156a27b-1bf4-4189-801e-97c728a721fc",
   "metadata": {},
   "outputs": [],
   "source": []
  },
  {
   "cell_type": "code",
   "execution_count": null,
   "id": "133c3cbe-a463-4ca9-817b-4a23674e0a5f",
   "metadata": {},
   "outputs": [],
   "source": []
  },
  {
   "cell_type": "code",
   "execution_count": null,
   "id": "e2b92ae1-546f-4b81-ac0c-f1b3f28c881a",
   "metadata": {},
   "outputs": [],
   "source": [
    "retail_raw_df.groupby(['invoice_date']).agg('count')['Invoice']"
   ]
  },
  {
   "cell_type": "code",
   "execution_count": null,
   "id": "c659ac14-8473-41a0-88af-53db9d0aeef9",
   "metadata": {},
   "outputs": [],
   "source": [
    "date_start = ''"
   ]
  },
  {
   "cell_type": "code",
   "execution_count": null,
   "id": "9058bfb9-4214-41c7-b979-2bad910b14bc",
   "metadata": {},
   "outputs": [],
   "source": [
    "retail_raw_df['Invoice'].str.lower().str.startswith('c') # Ignore cancelled orders."
   ]
  },
  {
   "cell_type": "code",
   "execution_count": null,
   "id": "565d2b87-440a-462f-bd05-299cf44a68b3",
   "metadata": {},
   "outputs": [],
   "source": [
    "df[(df['date'] > '2013-01-01') & (df['date'] < '2013-02-01')]"
   ]
  }
 ],
 "metadata": {
  "kernelspec": {
   "display_name": "Python3 (QA interview)",
   "language": "python",
   "name": "qa_interview_kernel"
  },
  "language_info": {
   "codemirror_mode": {
    "name": "ipython",
    "version": 3
   },
   "file_extension": ".py",
   "mimetype": "text/x-python",
   "name": "python",
   "nbconvert_exporter": "python",
   "pygments_lexer": "ipython3",
   "version": "3.9.5"
  }
 },
 "nbformat": 4,
 "nbformat_minor": 5
}
